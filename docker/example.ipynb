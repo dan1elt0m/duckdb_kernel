{
 "cells": [
  {
   "cell_type": "code",
   "id": "dd5151be-bae2-4ff4-bef4-ea144604ee56",
   "metadata": {
    "jupyter": {
     "is_executing": true
    }
   },
   "source": [
    "ATTACH DATABASE 'unity' as unity (TYPE UC_CATALOG);"
   ],
   "outputs": [],
   "execution_count": null
  },
  {
   "cell_type": "code",
   "execution_count": null,
   "id": "569996bd-8ace-4168-acdd-f266411beb7b",
   "metadata": {},
   "outputs": [],
   "source": [
    "SELECT * FROM unity.default.numbers;"
   ]
  },
  {
   "cell_type": "code",
   "execution_count": null,
   "id": "16772c40-6c59-4e53-aa24-c9bbb0fa731a",
   "metadata": {},
   "outputs": [],
   "source": [
    "CREATE EXTERNAL TABLE unity.test.numbers LOCATION 'file:///home/dunky/data' AS SELECT * FROM unity.default.numbers;"
   ]
  },
  {
   "cell_type": "code",
   "execution_count": null,
   "id": "61cd3836-9055-4a53-b223-bdaabc49510f",
   "metadata": {},
   "outputs": [],
   "source": [
    "SELECT * FROM unity.test.numbers;"
   ]
  },
  {
   "cell_type": "code",
   "execution_count": null,
   "id": "f9313339-61d1-43cd-b159-d3d96daeea53",
   "metadata": {},
   "outputs": [],
   "source": []
  }
 ],
 "metadata": {
  "kernelspec": {
   "display_name": "Dunky",
   "language": "sql",
   "name": "dunky"
  },
  "language_info": {
   "codemirror_mode": "sql",
   "file_extension": ".sql",
   "mimetype": "text/x-sql",
   "name": "DuckDBSQL"
  }
 },
 "nbformat": 4,
 "nbformat_minor": 5
}
