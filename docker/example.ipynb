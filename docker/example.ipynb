{
 "cells": [
  {
   "cell_type": "code",
   "execution_count": null,
   "id": "dd5151be-bae2-4ff4-bef4-ea144604ee56",
   "metadata": {},
   "outputs": [],
   "source": "ATTACH DATABASE 'unity' as unity (TYPE UC_CATALOG);"
  },
  {
   "cell_type": "code",
   "execution_count": null,
   "id": "569996bd-8ace-4168-acdd-f266411beb7b",
   "metadata": {},
   "outputs": [],
   "source": "SELECT * FROM unity.default.numbers;"
  },
  {
   "cell_type": "code",
   "execution_count": null,
   "id": "16772c40-6c59-4e53-aa24-c9bbb0fa731a",
   "metadata": {},
   "outputs": [],
   "source": []
  }
 ],
 "metadata": {
  "kernelspec": {
   "display_name": "Python 3 (ipykernel)",
   "language": "python",
   "name": "python3"
  },
  "language_info": {
   "codemirror_mode": {
    "name": "ipython",
    "version": 3
   },
   "file_extension": ".py",
   "mimetype": "text/x-python",
   "name": "python",
   "nbconvert_exporter": "python",
   "pygments_lexer": "ipython3",
   "version": "3.11.9"
  }
 },
 "nbformat": 4,
 "nbformat_minor": 5
}
